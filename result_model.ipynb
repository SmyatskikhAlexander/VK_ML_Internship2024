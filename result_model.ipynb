{
 "cells": [
  {
   "cell_type": "code",
   "execution_count": 1,
   "metadata": {},
   "outputs": [],
   "source": [
    "import pandas as pd\n",
    "import numpy as np\n",
    "from sklearn.metrics import ndcg_score\n",
    "from catboost import CatBoostClassifier, Pool"
   ]
  },
  {
   "cell_type": "code",
   "execution_count": 2,
   "metadata": {},
   "outputs": [],
   "source": [
    "def train_test (model, train_Pool, test_Pool, X_test, y_test):\n",
    "    model.fit(train_Pool, eval_set=test_Pool)\n",
    "    predictions = model.predict_proba(X_test)[:, 1]\n",
    "    result_score = ndcg_score(y_test.values.reshape(1, -1), predictions.reshape(1, -1), k=X_test.shape[0])\n",
    "    print(\"NDCG_SCORE = \", result_score)\n",
    "    return result_score"
   ]
  },
  {
   "cell_type": "code",
   "execution_count": 3,
   "metadata": {},
   "outputs": [],
   "source": [
    "train_data = pd.read_csv(\"C:/Users/smyat/Desktop/Internship VK/train_df.csv\")\n",
    "\n",
    "test_data = pd.read_csv(\"C:/Users/smyat/Desktop/Internship VK/test_df.csv\")"
   ]
  },
  {
   "cell_type": "code",
   "execution_count": 4,
   "metadata": {},
   "outputs": [],
   "source": [
    "y_train = train_data['target']\n",
    "X_train = train_data.drop(columns =['target'])\n",
    "\n",
    "y_test = test_data['target']\n",
    "X_test = test_data.drop(columns =['target'])"
   ]
  },
  {
   "cell_type": "code",
   "execution_count": 5,
   "metadata": {},
   "outputs": [],
   "source": [
    "train_id = X_train['search_id']\n",
    "test_id = X_test['search_id']\n",
    "\n",
    "train_Pool = Pool(data=X_train, label=y_train, group_id=train_id)\n",
    "test_Pool = Pool(data=X_test, label=y_test, group_id=test_id)"
   ]
  },
  {
   "cell_type": "code",
   "execution_count": 6,
   "metadata": {},
   "outputs": [
    {
     "name": "stdout",
     "output_type": "stream",
     "text": [
      "Learning rate set to 0.185839\n",
      "0:\tlearn: 0.3943769\ttest: 0.3937220\tbest: 0.3937220 (0)\ttotal: 147ms\tremaining: 11.6s\n",
      "10:\tlearn: 0.0799791\ttest: 0.0829519\tbest: 0.0829519 (10)\ttotal: 287ms\tremaining: 1.8s\n",
      "20:\tlearn: 0.0729769\ttest: 0.0789929\tbest: 0.0789929 (20)\ttotal: 432ms\tremaining: 1.21s\n",
      "30:\tlearn: 0.0691140\ttest: 0.0773256\tbest: 0.0773256 (30)\ttotal: 565ms\tremaining: 894ms\n",
      "40:\tlearn: 0.0644485\ttest: 0.0770697\tbest: 0.0769651 (37)\ttotal: 671ms\tremaining: 638ms\n",
      "50:\tlearn: 0.0620689\ttest: 0.0777049\tbest: 0.0769533 (41)\ttotal: 779ms\tremaining: 443ms\n",
      "60:\tlearn: 0.0599921\ttest: 0.0775223\tbest: 0.0769533 (41)\ttotal: 884ms\tremaining: 275ms\n",
      "70:\tlearn: 0.0576324\ttest: 0.0775540\tbest: 0.0769533 (41)\ttotal: 983ms\tremaining: 125ms\n",
      "79:\tlearn: 0.0557840\ttest: 0.0776458\tbest: 0.0769533 (41)\ttotal: 1.07s\tremaining: 0us\n",
      "\n",
      "bestTest = 0.07695333847\n",
      "bestIteration = 41\n",
      "\n",
      "Shrink model to first 42 iterations.\n",
      "NDCG_SCORE =  0.7157127140678244\n"
     ]
    }
   ],
   "source": [
    "model = CatBoostClassifier(iterations=80, depth=6, random_strength=1.01, scale_pos_weight=0.78, custom_metric='NDCG', boosting_type = 'Plain', verbose = 10, objective = 'Logloss')\n",
    " \n",
    "score = train_test(model, train_Pool, test_Pool, X_test, y_test)"
   ]
  }
 ],
 "metadata": {
  "kernelspec": {
   "display_name": "Python 3",
   "language": "python",
   "name": "python3"
  },
  "language_info": {
   "codemirror_mode": {
    "name": "ipython",
    "version": 3
   },
   "file_extension": ".py",
   "mimetype": "text/x-python",
   "name": "python",
   "nbconvert_exporter": "python",
   "pygments_lexer": "ipython3",
   "version": "3.9.13"
  }
 },
 "nbformat": 4,
 "nbformat_minor": 2
}
